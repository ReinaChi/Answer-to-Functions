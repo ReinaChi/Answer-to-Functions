{
 "cells": [
  {
   "cell_type": "markdown",
   "id": "aea569ed",
   "metadata": {},
   "source": [
    "# 1"
   ]
  },
  {
   "cell_type": "markdown",
   "id": "fb2ef563",
   "metadata": {},
   "source": [
    "Write a program that reads words from the user until the user enters a blank line.\n",
    "\n",
    "After the user enters a blank line your program should display each word entered by the user exactly once.\n",
    "\n",
    "The words should be displayed in the same order that they were first entered.\n",
    "\n",
    "For example, if the user enters:\n",
    "\n",
    "chioma\n",
    "naylo\n",
    "chioma\n",
    "uju\n",
    "naylo\n",
    "then your program should display:\n",
    "\n",
    "chioma\n",
    "naylo\n",
    "uju"
   ]
  },
  {
   "cell_type": "code",
   "execution_count": null,
   "id": "d449efd3",
   "metadata": {},
   "outputs": [],
   "source": [
    "list = []\n",
    "\n",
    "while len(list) >= 0:\n",
    "    names = input(\"State your name here: \")\n",
    "    if len(names) > 0:\n",
    "        list.append(names)\n",
    "        \n",
    "    else:\n",
    "        list.sort()\n",
    "        break\n",
    "        \n",
    "list1 = []\n",
    "for name in list:\n",
    "    if name not in list1:\n",
    "        list1.append(name)\n",
    "        print(name)"
   ]
  },
  {
   "cell_type": "markdown",
   "id": "a86cb759",
   "metadata": {},
   "source": [
    "# 2"
   ]
  },
  {
   "cell_type": "markdown",
   "id": "7f77171e",
   "metadata": {},
   "source": [
    "An online vendor provides express shipping for many of its items at a rate of  10.95𝑓𝑜𝑟𝑡ℎ𝑒𝑓𝑖𝑟𝑠𝑡𝑖𝑡𝑒𝑚𝑖𝑛𝑎𝑛𝑜𝑟𝑑𝑒𝑟,𝑎𝑛𝑑 2.95 for each subsequent item in the same order.\n",
    "\n",
    "Write a function that takes the number of items in the order as its only parameter.\n",
    "\n",
    "Return the shipping charge for the order as the function’s result.\n",
    "\n",
    "Include a main program that reads the number of items purchased from the user and displays the shipping charge."
   ]
  },
  {
   "cell_type": "code",
   "execution_count": 28,
   "id": "f0e6898d",
   "metadata": {},
   "outputs": [
    {
     "name": "stdout",
     "output_type": "stream",
     "text": [
      "How many items are you sending: 7\n",
      "6.7500000000000036\n"
     ]
    }
   ],
   "source": [
    "def quantity(items):\n",
    "    frequency = (items - 1)*2.95 - 10.95\n",
    "    return frequency\n",
    "\n",
    "shipping = int(input(\"How many items are you sending: \"))\n",
    "print(quantity(shipping))"
   ]
  },
  {
   "cell_type": "code",
   "execution_count": 2,
   "id": "52046ded",
   "metadata": {},
   "outputs": [
    {
     "ename": "SyntaxError",
     "evalue": "invalid syntax (<ipython-input-2-e832061737eb>, line 10)",
     "output_type": "error",
     "traceback": [
      "\u001b[1;36m  File \u001b[1;32m\"<ipython-input-2-e832061737eb>\"\u001b[1;36m, line \u001b[1;32m10\u001b[0m\n\u001b[1;33m    except(Value error):\u001b[0m\n\u001b[1;37m    ^\u001b[0m\n\u001b[1;31mSyntaxError\u001b[0m\u001b[1;31m:\u001b[0m invalid syntax\n"
     ]
    }
   ],
   "source": [
    "first_price = 10.95\n",
    "subs_fee = 2.95\n",
    "no_of_items = []\n",
    "\n",
    "\n",
    "try:\n",
    "    no_of_items = int(input(\"Enter the number of items for first shipping: \")\n",
    "          \n",
    "\n",
    "except(Value error):\n",
    "    print(\"Oops!  That was no valid number.  Try again...\")\n",
    "\n",
    "else:\n",
    "    if no_of_items <= 0:\n",
    "        raise ValueError(\"Please count and enter an actual number\")"
   ]
  },
  {
   "cell_type": "markdown",
   "id": "85827123",
   "metadata": {},
   "source": [
    "# 3"
   ]
  },
  {
   "cell_type": "markdown",
   "id": "50b60fcf",
   "metadata": {},
   "source": [
    "What concept is referred to as self-created data type?"
   ]
  },
  {
   "cell_type": "markdown",
   "id": "42a27fbf",
   "metadata": {},
   "source": [
    "Self-created data type known as object oriented programming, has properities called attributes and methods which are similar to function\n",
    "\n",
    "Objects contain data and code where data can be referred to as attribute of the object and code , the methods and these object grouped as class (variable)\n"
   ]
  },
  {
   "cell_type": "code",
   "execution_count": null,
   "id": "c8d40751",
   "metadata": {},
   "outputs": [],
   "source": [
    "class Country:\n",
    "    \n",
    "    def __init__(self, name, age): \n",
    "        self.name = name \n",
    "        self.age = age \n",
    "        \n",
    "my_Country = Country(\"Nigeria\", 61)\n",
    "\n",
    "print(my_Country.name)\n",
    "print(my_Country.age)"
   ]
  },
  {
   "cell_type": "markdown",
   "id": "2238893e",
   "metadata": {},
   "source": [
    "# 4"
   ]
  },
  {
   "cell_type": "markdown",
   "id": "b9c9a475",
   "metadata": {},
   "source": [
    "Look at the code snippet attached, what is the reason for the error? Re-write the code to give the right output."
   ]
  },
  {
   "cell_type": "code",
   "execution_count": null,
   "id": "062fc045",
   "metadata": {},
   "outputs": [],
   "source": [
    " class country:\n",
    "  def __init__(self, location, population, landmass, government):\n",
    "    self.location = location\n",
    "    self.population = population\n",
    "    self.landmass = landmass\n",
    "    self.government = government\n",
    " \n",
    "  \n",
    "\n",
    "  def info():\n",
    "      print(\"Zamunda is located at  \" + self.location + \" with total population of  \" + self.population + \" and landmass of \" + landmass + \" with \" + government + \" as type of government \")\n",
    "\n",
    "Z = country(\"Wakanda\", 500,000, 200,800, \"monarchy\")\n",
    "\n",
    "\n",
    "print(Z)"
   ]
  },
  {
   "cell_type": "code",
   "execution_count": null,
   "id": "23437d91",
   "metadata": {},
   "outputs": [],
   "source": [
    " class country:\n",
    "        \n",
    "    def __init__(self, location, population, landmass, government):\n",
    "        self.location = location\n",
    "        self.population = population\n",
    "        self.landmass = landmass\n",
    "        self.government = government\n",
    " \n",
    "    Z = country(\"Wakanda\", 500000, 200800, \"monarchy\")\n",
    "\n",
    "    print(\"Zamunda is located at  \" + Z.location + \" with total population of  \" + str(Z.population) + \" and landmass of \" + str(Z.landmass) + \" with \" + Z.government + \" as type of government \")\n"
   ]
  },
  {
   "cell_type": "markdown",
   "id": "e6036e9e",
   "metadata": {},
   "source": [
    "# 5"
   ]
  },
  {
   "cell_type": "markdown",
   "id": "578ab644",
   "metadata": {},
   "source": [
    "Create an animal object with attributes, print out a sentence describing the animal with your attributes."
   ]
  },
  {
   "cell_type": "code",
   "execution_count": null,
   "id": "46187973",
   "metadata": {},
   "outputs": [],
   "source": [
    "class Polar_bears:\n",
    "        \n",
    "    def __init__(self, specie, location, colour, diet, feature):\n",
    "        self.specie = specie\n",
    "        self.location = location\n",
    "        self.colour = colour\n",
    "        self.diet = diet\n",
    "        self.feature = feature\n",
    "        \n",
    "    x = Polar_bears(\"Marine-mammals\", \"Arctic-ocean\", \"black\", \"Seals\", \"sense-of-smell\")\n",
    "    \n",
    "    print(\"Polar bears are \" + x.specie + \" whose habitat is the \" + x.location + \". They are \" + x.colour + \" but their furs are translucent which shines white under the sun. \"  + x.diet + \" are their main diet though they eat carcass, and they have a \" + x.feature + \" which aid the hunt.\")"
   ]
  },
  {
   "cell_type": "markdown",
   "id": "b8864d61",
   "metadata": {},
   "source": [
    "# 6"
   ]
  },
  {
   "cell_type": "markdown",
   "id": "d6adcd82",
   "metadata": {},
   "source": [
    "Wrtie a function that takes in two parametrs (two strings).\n",
    "\n",
    "The first parameter should be a word and second should be a letter.\n",
    "\n",
    "The function returns the number of times that letter appears in the word.\n",
    "\n",
    "The function should be case insensitive (does not matter if the input is lowercase or uppercase).\n",
    "\n",
    "If the letter is not found in the word, the function should return 0."
   ]
  },
  {
   "cell_type": "code",
   "execution_count": 26,
   "id": "1068a7f2",
   "metadata": {},
   "outputs": [
    {
     "name": "stdout",
     "output_type": "stream",
     "text": [
      "Number of times sub occurs in string:  3\n"
     ]
    }
   ],
   "source": [
    "def count_Occurrences(string, sub):\n",
    "    l = len(sub)\n",
    "    count=0\n",
    "    for i in range(len(string)-len(sub)+1):\n",
    "        if sub in string[i:i+len(sub)]:\n",
    "            count=count+1\n",
    "    print (\"Number of times sub occurs in string: \", count)\n",
    "    \n",
    "    \n",
    "count_Occurrences(\"parallelogram\", \"l\")"
   ]
  },
  {
   "cell_type": "markdown",
   "id": "cfe1537c",
   "metadata": {},
   "source": [
    "# 7"
   ]
  },
  {
   "cell_type": "markdown",
   "id": "6f023a60",
   "metadata": {},
   "source": [
    "When analysing data collected as part of an experiment it may be desirable to remove the most extreme values before performing other calculations.\n",
    "\n",
    "Write a function that takes a list of values and an non-negative integer, n, as its parameters.\n",
    "\n",
    "The function should create a new copy of the list with the n largest elements and the n smallest elements removed.\n",
    "\n",
    "Then it should return the new copy of the list as the function’s only result.\n",
    "\n",
    "The order of the elements in the returned list does not have to match the order of the elements in the original list.\n",
    "\n",
    "Write a main program that demonstrates your function.\n",
    "\n",
    "It should read a list of numbers from the user and remove the two largest and two smallest values from it by calling the function described previously.\n",
    "\n",
    "Display the list with the outliers removed, followed by the original list.\n",
    "\n",
    "Your program should generate an appropriate error message if the user enters less than 4 values."
   ]
  },
  {
   "cell_type": "code",
   "execution_count": 23,
   "id": "4f36a659",
   "metadata": {},
   "outputs": [
    {
     "name": "stdout",
     "output_type": "stream",
     "text": [
      "Enter your number: 7,3,2,6,5,1,8,4\n",
      "['7', '3', '2', '6', '5', '1', '8', '4']\n",
      "['3', '6', '5', '4']\n",
      " \n",
      " \n",
      " \n",
      " \n"
     ]
    }
   ],
   "source": [
    "def figures(n):\n",
    "    min_num = min(n)\n",
    "    max_num = max(n)\n",
    "    n.remove(min_num)\n",
    "    n.remove(max_num)\n",
    "    return n\n",
    "\n",
    "num1 = input(\"Enter your number: \")\n",
    "\n",
    "num2 = num1.split(\",\")\n",
    "if len(num2) < 4:\n",
    "    print(\"Please type in more numbers to achieve result\")\n",
    "\n",
    "ctrl = num2[:]\n",
    "print(num2)\n",
    "\n",
    "num3 = figures(figures(num2))\n",
    "print(num3)\n",
    "\n",
    "for i in ctrl:\n",
    "    if i not in num3:\n",
    "        print(\" \")\n",
    "\n"
   ]
  },
  {
   "cell_type": "code",
   "execution_count": 25,
   "id": "4114dab5",
   "metadata": {},
   "outputs": [
    {
     "name": "stdout",
     "output_type": "stream",
     "text": [
      "Enter your number: 7,8,4,3\n",
      "Please type in more numbers to achieve result\n",
      "['7', '8', '4', '3']\n",
      "[]\n",
      " \n",
      " \n",
      " \n",
      " \n"
     ]
    }
   ],
   "source": [
    "\n",
    "  def figures(n):\n",
    "    min_num = min(n)\n",
    "    max_num = max(n)\n",
    "    n.remove(min_num)\n",
    "    n.remove(max_num)\n",
    "    return n\n",
    "\n",
    "num1 = input(\"Enter your number: \")\n",
    "\n",
    "num2 = num1.split(\",\")\n",
    "if len(num2) <= 4:\n",
    "    print(\"Please type in more numbers to achieve result\")\n",
    "\n",
    "ctrl = num2[:]\n",
    "print(num2)\n",
    "\n",
    "num3 = figures(figures(num2))\n",
    "print(num3)\n",
    "\n",
    "for i in ctrl:\n",
    "    if i not in num3:\n",
    "        print(\" \")      \n"
   ]
  },
  {
   "cell_type": "code",
   "execution_count": null,
   "id": "3696879b",
   "metadata": {},
   "outputs": [],
   "source": []
  }
 ],
 "metadata": {
  "kernelspec": {
   "display_name": "Python 3",
   "language": "python",
   "name": "python3"
  },
  "language_info": {
   "codemirror_mode": {
    "name": "ipython",
    "version": 3
   },
   "file_extension": ".py",
   "mimetype": "text/x-python",
   "name": "python",
   "nbconvert_exporter": "python",
   "pygments_lexer": "ipython3",
   "version": "3.8.8"
  }
 },
 "nbformat": 4,
 "nbformat_minor": 5
}
